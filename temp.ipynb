# -*- coding: utf-8 -*-
"""
Created on Sun Apr 18 23:16:05 2021

@author: Vincent
"""

