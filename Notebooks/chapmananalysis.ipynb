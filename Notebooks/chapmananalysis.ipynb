{
 "cells": [
  {
   "cell_type": "code",
   "execution_count": 2,
   "metadata": {},
   "outputs": [],
   "source": [
    "# \n",
    "# Aroldis Chapman and the 4 Seam Fastball\n",
    "# He owns most of the top 15 fastest pitches since 2015\n",
    "# All 4 seams\n",
    "# He is a closer\n",
    "# What are the results of these pitches?\n",
    "# Where do they go?\n",
    "# What are his stats\n",
    "# How are his other pitches?\n",
    "# are neg X's inside?\n",
    "    # yeah"
   ]
  },
  {
   "cell_type": "code",
   "execution_count": 3,
   "metadata": {},
   "outputs": [],
   "source": [
    "# DONE libraries\n",
    "# TODO show top 15 query and explain\n",
    "# DONE show positions of these pitches\n",
    "# TODO look into some of just his stats\n",
    "# TODO pull his non 4F pitches and compare\n",
    "# DONE find if neg X's are inside\n"
   ]
  },
  {
   "cell_type": "code",
   "execution_count": 4,
   "metadata": {},
   "outputs": [],
   "source": [
    "import pandas_gbq as pdgbq\n",
    "import pandas as pd\n",
    "import plotly.express as px"
   ]
  },
  {
   "cell_type": "code",
   "execution_count": 5,
   "metadata": {},
   "outputs": [],
   "source": [
    "top15query ='''\n",
    "-- Temp function to get year\n",
    "\n",
    "CREATE TEMP FUNCTION getYear(x DATE)\n",
    "    RETURNS INT64\n",
    "    AS (EXTRACT(year FROM x));\n",
    "\n",
    "SELECT\n",
    "    getYear(gd.game_date) AS year,\n",
    "    pv.pitcher_full,\n",
    "    pr.pitch_name,\n",
    "    pv.release_speed,\n",
    "    pv.release_spin_rate,\n",
    "    pv.plate_x,\n",
    "    pv.plate_z\n",
    "FROM \n",
    "    `valuesheet.MLB.pitching_view` AS pv\n",
    "INNER JOIN \n",
    "    `valuesheet.MLB.pitch_ref` AS pr ON pv.pitch_type = pr.pitch_type\n",
    "INNER JOIN \n",
    "    `valuesheet.MLB.game_data` AS gd ON pv.game_pk = gd.game_pk\n",
    "ORDER BY\n",
    "    release_speed DESC\n",
    "LIMIT 15 \n",
    "'''"
   ]
  },
  {
   "cell_type": "code",
   "execution_count": 6,
   "metadata": {},
   "outputs": [
    {
     "name": "stderr",
     "output_type": "stream",
     "text": [
      "Downloading: 100%|██████████| 15/15 [00:00<00:00, 88.22rows/s]\n"
     ]
    }
   ],
   "source": [
    "fastestpitches = pdgbq.read_gbq(query=top15query,project_id='valuesheet')"
   ]
  },
  {
   "cell_type": "code",
   "execution_count": 7,
   "metadata": {},
   "outputs": [
    {
     "data": {
      "text/html": [
       "<div>\n",
       "<style scoped>\n",
       "    .dataframe tbody tr th:only-of-type {\n",
       "        vertical-align: middle;\n",
       "    }\n",
       "\n",
       "    .dataframe tbody tr th {\n",
       "        vertical-align: top;\n",
       "    }\n",
       "\n",
       "    .dataframe thead th {\n",
       "        text-align: right;\n",
       "    }\n",
       "</style>\n",
       "<table border=\"1\" class=\"dataframe\">\n",
       "  <thead>\n",
       "    <tr style=\"text-align: right;\">\n",
       "      <th></th>\n",
       "      <th>year</th>\n",
       "      <th>pitcher_full</th>\n",
       "      <th>pitch_name</th>\n",
       "      <th>release_speed</th>\n",
       "      <th>release_spin_rate</th>\n",
       "      <th>plate_x</th>\n",
       "      <th>plate_z</th>\n",
       "    </tr>\n",
       "  </thead>\n",
       "  <tbody>\n",
       "    <tr>\n",
       "      <th>0</th>\n",
       "      <td>2016</td>\n",
       "      <td>Aroldis Chapman</td>\n",
       "      <td>4-Seam Fastball</td>\n",
       "      <td>105.7</td>\n",
       "      <td>2617.0</td>\n",
       "      <td>-2.10</td>\n",
       "      <td>1.57</td>\n",
       "    </tr>\n",
       "    <tr>\n",
       "      <th>1</th>\n",
       "      <td>2016</td>\n",
       "      <td>Aroldis Chapman</td>\n",
       "      <td>4-Seam Fastball</td>\n",
       "      <td>105.4</td>\n",
       "      <td>NaN</td>\n",
       "      <td>1.08</td>\n",
       "      <td>3.00</td>\n",
       "    </tr>\n",
       "    <tr>\n",
       "      <th>2</th>\n",
       "      <td>2016</td>\n",
       "      <td>Aroldis Chapman</td>\n",
       "      <td>4-Seam Fastball</td>\n",
       "      <td>105.2</td>\n",
       "      <td>NaN</td>\n",
       "      <td>-0.90</td>\n",
       "      <td>1.87</td>\n",
       "    </tr>\n",
       "    <tr>\n",
       "      <th>3</th>\n",
       "      <td>2016</td>\n",
       "      <td>Aroldis Chapman</td>\n",
       "      <td>4-Seam Fastball</td>\n",
       "      <td>105.1</td>\n",
       "      <td>NaN</td>\n",
       "      <td>0.26</td>\n",
       "      <td>1.99</td>\n",
       "    </tr>\n",
       "    <tr>\n",
       "      <th>4</th>\n",
       "      <td>2016</td>\n",
       "      <td>Aroldis Chapman</td>\n",
       "      <td>4-Seam Fastball</td>\n",
       "      <td>105.1</td>\n",
       "      <td>2698.0</td>\n",
       "      <td>-1.56</td>\n",
       "      <td>2.55</td>\n",
       "    </tr>\n",
       "    <tr>\n",
       "      <th>5</th>\n",
       "      <td>2016</td>\n",
       "      <td>Aroldis Chapman</td>\n",
       "      <td>4-Seam Fastball</td>\n",
       "      <td>105.1</td>\n",
       "      <td>NaN</td>\n",
       "      <td>-0.47</td>\n",
       "      <td>0.69</td>\n",
       "    </tr>\n",
       "    <tr>\n",
       "      <th>6</th>\n",
       "      <td>2016</td>\n",
       "      <td>Aroldis Chapman</td>\n",
       "      <td>4-Seam Fastball</td>\n",
       "      <td>105.0</td>\n",
       "      <td>2500.0</td>\n",
       "      <td>-1.30</td>\n",
       "      <td>1.38</td>\n",
       "    </tr>\n",
       "    <tr>\n",
       "      <th>7</th>\n",
       "      <td>2018</td>\n",
       "      <td>Jordan Hicks</td>\n",
       "      <td>Sinker</td>\n",
       "      <td>105.0</td>\n",
       "      <td>2289.0</td>\n",
       "      <td>-2.43</td>\n",
       "      <td>3.30</td>\n",
       "    </tr>\n",
       "    <tr>\n",
       "      <th>8</th>\n",
       "      <td>2018</td>\n",
       "      <td>Jordan Hicks</td>\n",
       "      <td>Sinker</td>\n",
       "      <td>105.0</td>\n",
       "      <td>2197.0</td>\n",
       "      <td>-1.28</td>\n",
       "      <td>2.29</td>\n",
       "    </tr>\n",
       "    <tr>\n",
       "      <th>9</th>\n",
       "      <td>2016</td>\n",
       "      <td>Aroldis Chapman</td>\n",
       "      <td>4-Seam Fastball</td>\n",
       "      <td>104.8</td>\n",
       "      <td>2654.0</td>\n",
       "      <td>-1.53</td>\n",
       "      <td>3.35</td>\n",
       "    </tr>\n",
       "    <tr>\n",
       "      <th>10</th>\n",
       "      <td>2016</td>\n",
       "      <td>Aroldis Chapman</td>\n",
       "      <td>4-Seam Fastball</td>\n",
       "      <td>104.8</td>\n",
       "      <td>NaN</td>\n",
       "      <td>1.01</td>\n",
       "      <td>3.24</td>\n",
       "    </tr>\n",
       "    <tr>\n",
       "      <th>11</th>\n",
       "      <td>2016</td>\n",
       "      <td>Aroldis Chapman</td>\n",
       "      <td>4-Seam Fastball</td>\n",
       "      <td>104.8</td>\n",
       "      <td>2711.0</td>\n",
       "      <td>0.64</td>\n",
       "      <td>2.88</td>\n",
       "    </tr>\n",
       "    <tr>\n",
       "      <th>12</th>\n",
       "      <td>2016</td>\n",
       "      <td>Aroldis Chapman</td>\n",
       "      <td>4-Seam Fastball</td>\n",
       "      <td>104.8</td>\n",
       "      <td>2681.0</td>\n",
       "      <td>-0.77</td>\n",
       "      <td>1.96</td>\n",
       "    </tr>\n",
       "    <tr>\n",
       "      <th>13</th>\n",
       "      <td>2016</td>\n",
       "      <td>Aroldis Chapman</td>\n",
       "      <td>4-Seam Fastball</td>\n",
       "      <td>104.7</td>\n",
       "      <td>NaN</td>\n",
       "      <td>-0.98</td>\n",
       "      <td>2.33</td>\n",
       "    </tr>\n",
       "    <tr>\n",
       "      <th>14</th>\n",
       "      <td>2016</td>\n",
       "      <td>Aroldis Chapman</td>\n",
       "      <td>4-Seam Fastball</td>\n",
       "      <td>104.6</td>\n",
       "      <td>2742.0</td>\n",
       "      <td>1.67</td>\n",
       "      <td>4.64</td>\n",
       "    </tr>\n",
       "  </tbody>\n",
       "</table>\n",
       "</div>"
      ],
      "text/plain": [
       "    year     pitcher_full       pitch_name  release_speed  release_spin_rate  \\\n",
       "0   2016  Aroldis Chapman  4-Seam Fastball          105.7             2617.0   \n",
       "1   2016  Aroldis Chapman  4-Seam Fastball          105.4                NaN   \n",
       "2   2016  Aroldis Chapman  4-Seam Fastball          105.2                NaN   \n",
       "3   2016  Aroldis Chapman  4-Seam Fastball          105.1                NaN   \n",
       "4   2016  Aroldis Chapman  4-Seam Fastball          105.1             2698.0   \n",
       "5   2016  Aroldis Chapman  4-Seam Fastball          105.1                NaN   \n",
       "6   2016  Aroldis Chapman  4-Seam Fastball          105.0             2500.0   \n",
       "7   2018     Jordan Hicks           Sinker          105.0             2289.0   \n",
       "8   2018     Jordan Hicks           Sinker          105.0             2197.0   \n",
       "9   2016  Aroldis Chapman  4-Seam Fastball          104.8             2654.0   \n",
       "10  2016  Aroldis Chapman  4-Seam Fastball          104.8                NaN   \n",
       "11  2016  Aroldis Chapman  4-Seam Fastball          104.8             2711.0   \n",
       "12  2016  Aroldis Chapman  4-Seam Fastball          104.8             2681.0   \n",
       "13  2016  Aroldis Chapman  4-Seam Fastball          104.7                NaN   \n",
       "14  2016  Aroldis Chapman  4-Seam Fastball          104.6             2742.0   \n",
       "\n",
       "    plate_x  plate_z  \n",
       "0     -2.10     1.57  \n",
       "1      1.08     3.00  \n",
       "2     -0.90     1.87  \n",
       "3      0.26     1.99  \n",
       "4     -1.56     2.55  \n",
       "5     -0.47     0.69  \n",
       "6     -1.30     1.38  \n",
       "7     -2.43     3.30  \n",
       "8     -1.28     2.29  \n",
       "9     -1.53     3.35  \n",
       "10     1.01     3.24  \n",
       "11     0.64     2.88  \n",
       "12    -0.77     1.96  \n",
       "13    -0.98     2.33  \n",
       "14     1.67     4.64  "
      ]
     },
     "execution_count": 7,
     "metadata": {},
     "output_type": "execute_result"
    }
   ],
   "source": [
    "fastestpitches.head(15)"
   ]
  },
  {
   "cell_type": "code",
   "execution_count": 8,
   "metadata": {},
   "outputs": [
    {
     "data": {
      "application/vnd.plotly.v1+json": {
       "config": {
        "plotlyServerURL": "https://plot.ly"
       },
       "data": [
        {
         "hovertemplate": "pitch_name=4-Seam Fastball<br>Inside/Outside=%{x}<br>High/Low=%{y}<extra></extra>",
         "legendgroup": "4-Seam Fastball",
         "marker": {
          "color": "#636efa",
          "symbol": "circle"
         },
         "mode": "markers",
         "name": "4-Seam Fastball",
         "orientation": "v",
         "showlegend": true,
         "type": "scatter",
         "x": [
          -2.1,
          1.08,
          -0.9,
          0.26,
          -1.56,
          -0.47,
          -1.3,
          -1.53,
          1.01,
          0.64,
          -0.77,
          -0.98,
          1.67
         ],
         "xaxis": "x",
         "y": [
          1.57,
          3,
          1.87,
          1.99,
          2.55,
          0.69,
          1.38,
          3.35,
          3.24,
          2.88,
          1.96,
          2.33,
          4.64
         ],
         "yaxis": "y"
        },
        {
         "hovertemplate": "pitch_name=Sinker<br>Inside/Outside=%{x}<br>High/Low=%{y}<extra></extra>",
         "legendgroup": "Sinker",
         "marker": {
          "color": "#EF553B",
          "symbol": "circle"
         },
         "mode": "markers",
         "name": "Sinker",
         "orientation": "v",
         "showlegend": true,
         "type": "scatter",
         "x": [
          -2.43,
          -1.28
         ],
         "xaxis": "x",
         "y": [
          3.3,
          2.29
         ],
         "yaxis": "y"
        }
       ],
       "layout": {
        "height": 500,
        "legend": {
         "title": {
          "text": "Pitch"
         },
         "tracegroupgap": 0
        },
        "template": {
         "data": {
          "bar": [
           {
            "error_x": {
             "color": "#2a3f5f"
            },
            "error_y": {
             "color": "#2a3f5f"
            },
            "marker": {
             "line": {
              "color": "#E5ECF6",
              "width": 0.5
             },
             "pattern": {
              "fillmode": "overlay",
              "size": 10,
              "solidity": 0.2
             }
            },
            "type": "bar"
           }
          ],
          "barpolar": [
           {
            "marker": {
             "line": {
              "color": "#E5ECF6",
              "width": 0.5
             },
             "pattern": {
              "fillmode": "overlay",
              "size": 10,
              "solidity": 0.2
             }
            },
            "type": "barpolar"
           }
          ],
          "carpet": [
           {
            "aaxis": {
             "endlinecolor": "#2a3f5f",
             "gridcolor": "white",
             "linecolor": "white",
             "minorgridcolor": "white",
             "startlinecolor": "#2a3f5f"
            },
            "baxis": {
             "endlinecolor": "#2a3f5f",
             "gridcolor": "white",
             "linecolor": "white",
             "minorgridcolor": "white",
             "startlinecolor": "#2a3f5f"
            },
            "type": "carpet"
           }
          ],
          "choropleth": [
           {
            "colorbar": {
             "outlinewidth": 0,
             "ticks": ""
            },
            "type": "choropleth"
           }
          ],
          "contour": [
           {
            "colorbar": {
             "outlinewidth": 0,
             "ticks": ""
            },
            "colorscale": [
             [
              0,
              "#0d0887"
             ],
             [
              0.1111111111111111,
              "#46039f"
             ],
             [
              0.2222222222222222,
              "#7201a8"
             ],
             [
              0.3333333333333333,
              "#9c179e"
             ],
             [
              0.4444444444444444,
              "#bd3786"
             ],
             [
              0.5555555555555556,
              "#d8576b"
             ],
             [
              0.6666666666666666,
              "#ed7953"
             ],
             [
              0.7777777777777778,
              "#fb9f3a"
             ],
             [
              0.8888888888888888,
              "#fdca26"
             ],
             [
              1,
              "#f0f921"
             ]
            ],
            "type": "contour"
           }
          ],
          "contourcarpet": [
           {
            "colorbar": {
             "outlinewidth": 0,
             "ticks": ""
            },
            "type": "contourcarpet"
           }
          ],
          "heatmap": [
           {
            "colorbar": {
             "outlinewidth": 0,
             "ticks": ""
            },
            "colorscale": [
             [
              0,
              "#0d0887"
             ],
             [
              0.1111111111111111,
              "#46039f"
             ],
             [
              0.2222222222222222,
              "#7201a8"
             ],
             [
              0.3333333333333333,
              "#9c179e"
             ],
             [
              0.4444444444444444,
              "#bd3786"
             ],
             [
              0.5555555555555556,
              "#d8576b"
             ],
             [
              0.6666666666666666,
              "#ed7953"
             ],
             [
              0.7777777777777778,
              "#fb9f3a"
             ],
             [
              0.8888888888888888,
              "#fdca26"
             ],
             [
              1,
              "#f0f921"
             ]
            ],
            "type": "heatmap"
           }
          ],
          "heatmapgl": [
           {
            "colorbar": {
             "outlinewidth": 0,
             "ticks": ""
            },
            "colorscale": [
             [
              0,
              "#0d0887"
             ],
             [
              0.1111111111111111,
              "#46039f"
             ],
             [
              0.2222222222222222,
              "#7201a8"
             ],
             [
              0.3333333333333333,
              "#9c179e"
             ],
             [
              0.4444444444444444,
              "#bd3786"
             ],
             [
              0.5555555555555556,
              "#d8576b"
             ],
             [
              0.6666666666666666,
              "#ed7953"
             ],
             [
              0.7777777777777778,
              "#fb9f3a"
             ],
             [
              0.8888888888888888,
              "#fdca26"
             ],
             [
              1,
              "#f0f921"
             ]
            ],
            "type": "heatmapgl"
           }
          ],
          "histogram": [
           {
            "marker": {
             "pattern": {
              "fillmode": "overlay",
              "size": 10,
              "solidity": 0.2
             }
            },
            "type": "histogram"
           }
          ],
          "histogram2d": [
           {
            "colorbar": {
             "outlinewidth": 0,
             "ticks": ""
            },
            "colorscale": [
             [
              0,
              "#0d0887"
             ],
             [
              0.1111111111111111,
              "#46039f"
             ],
             [
              0.2222222222222222,
              "#7201a8"
             ],
             [
              0.3333333333333333,
              "#9c179e"
             ],
             [
              0.4444444444444444,
              "#bd3786"
             ],
             [
              0.5555555555555556,
              "#d8576b"
             ],
             [
              0.6666666666666666,
              "#ed7953"
             ],
             [
              0.7777777777777778,
              "#fb9f3a"
             ],
             [
              0.8888888888888888,
              "#fdca26"
             ],
             [
              1,
              "#f0f921"
             ]
            ],
            "type": "histogram2d"
           }
          ],
          "histogram2dcontour": [
           {
            "colorbar": {
             "outlinewidth": 0,
             "ticks": ""
            },
            "colorscale": [
             [
              0,
              "#0d0887"
             ],
             [
              0.1111111111111111,
              "#46039f"
             ],
             [
              0.2222222222222222,
              "#7201a8"
             ],
             [
              0.3333333333333333,
              "#9c179e"
             ],
             [
              0.4444444444444444,
              "#bd3786"
             ],
             [
              0.5555555555555556,
              "#d8576b"
             ],
             [
              0.6666666666666666,
              "#ed7953"
             ],
             [
              0.7777777777777778,
              "#fb9f3a"
             ],
             [
              0.8888888888888888,
              "#fdca26"
             ],
             [
              1,
              "#f0f921"
             ]
            ],
            "type": "histogram2dcontour"
           }
          ],
          "mesh3d": [
           {
            "colorbar": {
             "outlinewidth": 0,
             "ticks": ""
            },
            "type": "mesh3d"
           }
          ],
          "parcoords": [
           {
            "line": {
             "colorbar": {
              "outlinewidth": 0,
              "ticks": ""
             }
            },
            "type": "parcoords"
           }
          ],
          "pie": [
           {
            "automargin": true,
            "type": "pie"
           }
          ],
          "scatter": [
           {
            "marker": {
             "colorbar": {
              "outlinewidth": 0,
              "ticks": ""
             }
            },
            "type": "scatter"
           }
          ],
          "scatter3d": [
           {
            "line": {
             "colorbar": {
              "outlinewidth": 0,
              "ticks": ""
             }
            },
            "marker": {
             "colorbar": {
              "outlinewidth": 0,
              "ticks": ""
             }
            },
            "type": "scatter3d"
           }
          ],
          "scattercarpet": [
           {
            "marker": {
             "colorbar": {
              "outlinewidth": 0,
              "ticks": ""
             }
            },
            "type": "scattercarpet"
           }
          ],
          "scattergeo": [
           {
            "marker": {
             "colorbar": {
              "outlinewidth": 0,
              "ticks": ""
             }
            },
            "type": "scattergeo"
           }
          ],
          "scattergl": [
           {
            "marker": {
             "colorbar": {
              "outlinewidth": 0,
              "ticks": ""
             }
            },
            "type": "scattergl"
           }
          ],
          "scattermapbox": [
           {
            "marker": {
             "colorbar": {
              "outlinewidth": 0,
              "ticks": ""
             }
            },
            "type": "scattermapbox"
           }
          ],
          "scatterpolar": [
           {
            "marker": {
             "colorbar": {
              "outlinewidth": 0,
              "ticks": ""
             }
            },
            "type": "scatterpolar"
           }
          ],
          "scatterpolargl": [
           {
            "marker": {
             "colorbar": {
              "outlinewidth": 0,
              "ticks": ""
             }
            },
            "type": "scatterpolargl"
           }
          ],
          "scatterternary": [
           {
            "marker": {
             "colorbar": {
              "outlinewidth": 0,
              "ticks": ""
             }
            },
            "type": "scatterternary"
           }
          ],
          "surface": [
           {
            "colorbar": {
             "outlinewidth": 0,
             "ticks": ""
            },
            "colorscale": [
             [
              0,
              "#0d0887"
             ],
             [
              0.1111111111111111,
              "#46039f"
             ],
             [
              0.2222222222222222,
              "#7201a8"
             ],
             [
              0.3333333333333333,
              "#9c179e"
             ],
             [
              0.4444444444444444,
              "#bd3786"
             ],
             [
              0.5555555555555556,
              "#d8576b"
             ],
             [
              0.6666666666666666,
              "#ed7953"
             ],
             [
              0.7777777777777778,
              "#fb9f3a"
             ],
             [
              0.8888888888888888,
              "#fdca26"
             ],
             [
              1,
              "#f0f921"
             ]
            ],
            "type": "surface"
           }
          ],
          "table": [
           {
            "cells": {
             "fill": {
              "color": "#EBF0F8"
             },
             "line": {
              "color": "white"
             }
            },
            "header": {
             "fill": {
              "color": "#C8D4E3"
             },
             "line": {
              "color": "white"
             }
            },
            "type": "table"
           }
          ]
         },
         "layout": {
          "annotationdefaults": {
           "arrowcolor": "#2a3f5f",
           "arrowhead": 0,
           "arrowwidth": 1
          },
          "autotypenumbers": "strict",
          "coloraxis": {
           "colorbar": {
            "outlinewidth": 0,
            "ticks": ""
           }
          },
          "colorscale": {
           "diverging": [
            [
             0,
             "#8e0152"
            ],
            [
             0.1,
             "#c51b7d"
            ],
            [
             0.2,
             "#de77ae"
            ],
            [
             0.3,
             "#f1b6da"
            ],
            [
             0.4,
             "#fde0ef"
            ],
            [
             0.5,
             "#f7f7f7"
            ],
            [
             0.6,
             "#e6f5d0"
            ],
            [
             0.7,
             "#b8e186"
            ],
            [
             0.8,
             "#7fbc41"
            ],
            [
             0.9,
             "#4d9221"
            ],
            [
             1,
             "#276419"
            ]
           ],
           "sequential": [
            [
             0,
             "#0d0887"
            ],
            [
             0.1111111111111111,
             "#46039f"
            ],
            [
             0.2222222222222222,
             "#7201a8"
            ],
            [
             0.3333333333333333,
             "#9c179e"
            ],
            [
             0.4444444444444444,
             "#bd3786"
            ],
            [
             0.5555555555555556,
             "#d8576b"
            ],
            [
             0.6666666666666666,
             "#ed7953"
            ],
            [
             0.7777777777777778,
             "#fb9f3a"
            ],
            [
             0.8888888888888888,
             "#fdca26"
            ],
            [
             1,
             "#f0f921"
            ]
           ],
           "sequentialminus": [
            [
             0,
             "#0d0887"
            ],
            [
             0.1111111111111111,
             "#46039f"
            ],
            [
             0.2222222222222222,
             "#7201a8"
            ],
            [
             0.3333333333333333,
             "#9c179e"
            ],
            [
             0.4444444444444444,
             "#bd3786"
            ],
            [
             0.5555555555555556,
             "#d8576b"
            ],
            [
             0.6666666666666666,
             "#ed7953"
            ],
            [
             0.7777777777777778,
             "#fb9f3a"
            ],
            [
             0.8888888888888888,
             "#fdca26"
            ],
            [
             1,
             "#f0f921"
            ]
           ]
          },
          "colorway": [
           "#636efa",
           "#EF553B",
           "#00cc96",
           "#ab63fa",
           "#FFA15A",
           "#19d3f3",
           "#FF6692",
           "#B6E880",
           "#FF97FF",
           "#FECB52"
          ],
          "font": {
           "color": "#2a3f5f"
          },
          "geo": {
           "bgcolor": "white",
           "lakecolor": "white",
           "landcolor": "#E5ECF6",
           "showlakes": true,
           "showland": true,
           "subunitcolor": "white"
          },
          "hoverlabel": {
           "align": "left"
          },
          "hovermode": "closest",
          "mapbox": {
           "style": "light"
          },
          "paper_bgcolor": "white",
          "plot_bgcolor": "#E5ECF6",
          "polar": {
           "angularaxis": {
            "gridcolor": "white",
            "linecolor": "white",
            "ticks": ""
           },
           "bgcolor": "#E5ECF6",
           "radialaxis": {
            "gridcolor": "white",
            "linecolor": "white",
            "ticks": ""
           }
          },
          "scene": {
           "xaxis": {
            "backgroundcolor": "#E5ECF6",
            "gridcolor": "white",
            "gridwidth": 2,
            "linecolor": "white",
            "showbackground": true,
            "ticks": "",
            "zerolinecolor": "white"
           },
           "yaxis": {
            "backgroundcolor": "#E5ECF6",
            "gridcolor": "white",
            "gridwidth": 2,
            "linecolor": "white",
            "showbackground": true,
            "ticks": "",
            "zerolinecolor": "white"
           },
           "zaxis": {
            "backgroundcolor": "#E5ECF6",
            "gridcolor": "white",
            "gridwidth": 2,
            "linecolor": "white",
            "showbackground": true,
            "ticks": "",
            "zerolinecolor": "white"
           }
          },
          "shapedefaults": {
           "line": {
            "color": "#2a3f5f"
           }
          },
          "ternary": {
           "aaxis": {
            "gridcolor": "white",
            "linecolor": "white",
            "ticks": ""
           },
           "baxis": {
            "gridcolor": "white",
            "linecolor": "white",
            "ticks": ""
           },
           "bgcolor": "#E5ECF6",
           "caxis": {
            "gridcolor": "white",
            "linecolor": "white",
            "ticks": ""
           }
          },
          "title": {
           "x": 0.05
          },
          "xaxis": {
           "automargin": true,
           "gridcolor": "white",
           "linecolor": "white",
           "ticks": "",
           "title": {
            "standoff": 15
           },
           "zerolinecolor": "white",
           "zerolinewidth": 2
          },
          "yaxis": {
           "automargin": true,
           "gridcolor": "white",
           "linecolor": "white",
           "ticks": "",
           "title": {
            "standoff": 15
           },
           "zerolinecolor": "white",
           "zerolinewidth": 2
          }
         }
        },
        "title": {
         "text": "Fastest Pitches, 2015 - Present"
        },
        "width": 500,
        "xaxis": {
         "anchor": "y",
         "domain": [
          0,
          1
         ],
         "title": {
          "text": "Inside/Outside"
         }
        },
        "yaxis": {
         "anchor": "x",
         "domain": [
          0,
          1
         ],
         "title": {
          "text": "High/Low"
         }
        }
       }
      }
     },
     "metadata": {},
     "output_type": "display_data"
    }
   ],
   "source": [
    "fig = px.scatter(fastestpitches, x=\"plate_x\", y=\"plate_z\", color=\"pitch_name\",\n",
    "                 title=\"Fastest Pitches, 2015 - Present\",\n",
    "                 labels={\"plate_x\":\"Inside/Outside\",\"plate_z\":\"High/Low\"},\n",
    "                 height=500,\n",
    "                 width=500)\n",
    "                     \n",
    "fig.update_layout(legend_title_text='Pitch')"
   ]
  },
  {
   "cell_type": "code",
   "execution_count": 9,
   "metadata": {},
   "outputs": [],
   "source": [
    "chapmanPitches = '''\n",
    "-- Temp function to get year\n",
    "\n",
    "CREATE TEMP FUNCTION getYear(x DATE)\n",
    "    RETURNS INT64\n",
    "    AS (EXTRACT(year FROM x));\n",
    "\n",
    "--Get chapman's fastest pitches grouped by pitch and year\n",
    "\n",
    "WITH pitches AS (SELECT\n",
    "    getYear(gd.game_date) AS year,\n",
    "    max(pv.release_speed) AS fastest_pitch,\n",
    "    pv.pitch_type\n",
    "FROM\n",
    "    `valuesheet.MLB.pitching_view` AS pv\n",
    "LEFT JOIN \n",
    "    `valuesheet.MLB.game_data` AS gd ON pv.game_pk = gd.game_pk\n",
    "WHERE \n",
    "    pv.pitcher_full = \"Aroldis Chapman\"\n",
    "GROUP BY\n",
    "    year,\n",
    "    pv.pitch_type\n",
    "ORDER BY\n",
    "    fastest_pitch DESC),\n",
    "\n",
    "-- Rank his fastest pitches by pitch\n",
    "\n",
    "pitchrank AS (SELECT \n",
    "    year,\n",
    "    pitch_type,\n",
    "    fastest_pitch,\n",
    "    RANK() OVER(PARTITION BY pitch_type ORDER BY fastest_pitch DESC) AS Rank\n",
    "FROM\n",
    "    pitches\n",
    "ORDER BY \n",
    "    fastest_pitch DESC,\n",
    "    Rank),\n",
    "\n",
    "-- Rank his fastest pitches by year\n",
    "\n",
    "yearrank AS (SELECT\n",
    "    year,\n",
    "    fastest_pitch,\n",
    "    pitch_type,\n",
    "    RANK() OVER(PARTITION BY year ORDER BY fastest_pitch DESC) AS rankyear\n",
    "FROM \n",
    "    pitchrank\n",
    "ORDER BY\n",
    "    rankyear)\n",
    "\n",
    "-- Select the best 1 rank pitches by year\n",
    "\n",
    "SELECT\n",
    "    yr.year,\n",
    "    yr.fastest_pitch,\n",
    "    pr.pitch_name\n",
    "FROM \n",
    "    yearrank AS yr\n",
    "LEFT JOIN \n",
    "    `valuesheet.MLB.pitch_ref` AS pr ON yr.pitch_type = pr.pitch_type\n",
    "WHERE \n",
    "    rankyear = 1\n",
    "ORDER BY \n",
    "    fastest_pitch DESC\n",
    "'''"
   ]
  },
  {
   "cell_type": "code",
   "execution_count": 10,
   "metadata": {},
   "outputs": [
    {
     "name": "stderr",
     "output_type": "stream",
     "text": [
      "Downloading: 100%|██████████| 7/7 [00:00<00:00, 42.08rows/s]\n"
     ]
    },
    {
     "data": {
      "text/html": [
       "<div>\n",
       "<style scoped>\n",
       "    .dataframe tbody tr th:only-of-type {\n",
       "        vertical-align: middle;\n",
       "    }\n",
       "\n",
       "    .dataframe tbody tr th {\n",
       "        vertical-align: top;\n",
       "    }\n",
       "\n",
       "    .dataframe thead th {\n",
       "        text-align: right;\n",
       "    }\n",
       "</style>\n",
       "<table border=\"1\" class=\"dataframe\">\n",
       "  <thead>\n",
       "    <tr style=\"text-align: right;\">\n",
       "      <th></th>\n",
       "      <th>year</th>\n",
       "      <th>fastest_pitch</th>\n",
       "      <th>pitch_name</th>\n",
       "    </tr>\n",
       "  </thead>\n",
       "  <tbody>\n",
       "    <tr>\n",
       "      <th>0</th>\n",
       "      <td>2016</td>\n",
       "      <td>105.7</td>\n",
       "      <td>4-Seam Fastball</td>\n",
       "    </tr>\n",
       "    <tr>\n",
       "      <th>1</th>\n",
       "      <td>2018</td>\n",
       "      <td>104.4</td>\n",
       "      <td>Sinker</td>\n",
       "    </tr>\n",
       "    <tr>\n",
       "      <th>2</th>\n",
       "      <td>2017</td>\n",
       "      <td>104.2</td>\n",
       "      <td>4-Seam Fastball</td>\n",
       "    </tr>\n",
       "    <tr>\n",
       "      <th>3</th>\n",
       "      <td>2015</td>\n",
       "      <td>104.1</td>\n",
       "      <td>4-Seam Fastball</td>\n",
       "    </tr>\n",
       "    <tr>\n",
       "      <th>4</th>\n",
       "      <td>2021</td>\n",
       "      <td>103.4</td>\n",
       "      <td>Sinker</td>\n",
       "    </tr>\n",
       "    <tr>\n",
       "      <th>5</th>\n",
       "      <td>2019</td>\n",
       "      <td>102.7</td>\n",
       "      <td>Sinker</td>\n",
       "    </tr>\n",
       "    <tr>\n",
       "      <th>6</th>\n",
       "      <td>2020</td>\n",
       "      <td>101.5</td>\n",
       "      <td>4-Seam Fastball</td>\n",
       "    </tr>\n",
       "  </tbody>\n",
       "</table>\n",
       "</div>"
      ],
      "text/plain": [
       "   year  fastest_pitch       pitch_name\n",
       "0  2016          105.7  4-Seam Fastball\n",
       "1  2018          104.4           Sinker\n",
       "2  2017          104.2  4-Seam Fastball\n",
       "3  2015          104.1  4-Seam Fastball\n",
       "4  2021          103.4           Sinker\n",
       "5  2019          102.7           Sinker\n",
       "6  2020          101.5  4-Seam Fastball"
      ]
     },
     "execution_count": 10,
     "metadata": {},
     "output_type": "execute_result"
    }
   ],
   "source": [
    "chapmanBest = pdgbq.read_gbq(query=chapmanPitches,project_id='valuesheet')\n",
    "\n",
    "chapmanBest.head(10)"
   ]
  },
  {
   "cell_type": "code",
   "execution_count": 11,
   "metadata": {},
   "outputs": [],
   "source": [
    "chapmanPitchesNoFF = '''\n",
    "-- Declare vars\n",
    "--  Don't want the 4 seam at a certain point in this query\n",
    "\n",
    "DECLARE seam4 STRING DEFAULT 'FF';\n",
    "\n",
    "-- Temp function to get year\n",
    "\n",
    "CREATE TEMP FUNCTION getYear(x DATE)\n",
    "    RETURNS INT64\n",
    "    AS (EXTRACT(year FROM x));\n",
    "\n",
    "--Get chapman's fastest pitches grouped by pitch and year\n",
    "\n",
    "WITH pitches AS (SELECT\n",
    "    getYear(gd.game_date) AS year,\n",
    "    max(pv.release_speed) AS fastest_pitch,\n",
    "    pv.pitch_type\n",
    "FROM\n",
    "    `valuesheet.MLB.pitching_view` AS pv\n",
    "LEFT JOIN \n",
    "    `valuesheet.MLB.game_data` AS gd ON pv.game_pk = gd.game_pk\n",
    "WHERE \n",
    "    pv.pitcher_full = \"Aroldis Chapman\"\n",
    "    AND pv.pitch_type NOT IN (seam4)\n",
    "GROUP BY\n",
    "    year,\n",
    "    pv.pitch_type\n",
    "ORDER BY\n",
    "    fastest_pitch DESC\n",
    "),\n",
    "\n",
    "-- Rank his fastest pitches by pitch\n",
    "\n",
    "pitchrank AS (SELECT \n",
    "    year,\n",
    "    pitch_type,\n",
    "    fastest_pitch,\n",
    "    RANK() OVER(PARTITION BY pitch_type ORDER BY fastest_pitch DESC) AS Rank\n",
    "FROM\n",
    "    pitches\n",
    "ORDER BY \n",
    "    fastest_pitch DESC,\n",
    "    Rank),\n",
    "\n",
    "-- Rank his fastest pitches by year\n",
    "\n",
    "yearrank AS (SELECT\n",
    "    year,\n",
    "    fastest_pitch,\n",
    "    pitch_type,\n",
    "    RANK() OVER(PARTITION BY year ORDER BY fastest_pitch DESC) AS rankyear\n",
    "FROM \n",
    "    pitchrank\n",
    "ORDER BY\n",
    "    rankyear)\n",
    "\n",
    "-- Select the best 1 rank pitches by year\n",
    "\n",
    "SELECT\n",
    "    yr.year,\n",
    "    yr.fastest_pitch,\n",
    "    pr.pitch_name\n",
    "FROM \n",
    "    yearrank AS yr\n",
    "LEFT JOIN \n",
    "    `valuesheet.MLB.pitch_ref` AS pr ON yr.pitch_type = pr.pitch_type\n",
    "WHERE \n",
    "    rankyear = 1\n",
    "ORDER BY \n",
    "    fastest_pitch DESC\n",
    "'''"
   ]
  },
  {
   "cell_type": "code",
   "execution_count": 12,
   "metadata": {},
   "outputs": [
    {
     "name": "stderr",
     "output_type": "stream",
     "text": [
      "Downloading: 100%|██████████| 7/7 [00:00<00:00, 35.37rows/s]\n"
     ]
    },
    {
     "data": {
      "text/html": [
       "<div>\n",
       "<style scoped>\n",
       "    .dataframe tbody tr th:only-of-type {\n",
       "        vertical-align: middle;\n",
       "    }\n",
       "\n",
       "    .dataframe tbody tr th {\n",
       "        vertical-align: top;\n",
       "    }\n",
       "\n",
       "    .dataframe thead th {\n",
       "        text-align: right;\n",
       "    }\n",
       "</style>\n",
       "<table border=\"1\" class=\"dataframe\">\n",
       "  <thead>\n",
       "    <tr style=\"text-align: right;\">\n",
       "      <th></th>\n",
       "      <th>year</th>\n",
       "      <th>fastest_pitch</th>\n",
       "      <th>pitch_name</th>\n",
       "    </tr>\n",
       "  </thead>\n",
       "  <tbody>\n",
       "    <tr>\n",
       "      <th>0</th>\n",
       "      <td>2018</td>\n",
       "      <td>104.4</td>\n",
       "      <td>Sinker</td>\n",
       "    </tr>\n",
       "    <tr>\n",
       "      <th>1</th>\n",
       "      <td>2021</td>\n",
       "      <td>103.4</td>\n",
       "      <td>Sinker</td>\n",
       "    </tr>\n",
       "    <tr>\n",
       "      <th>2</th>\n",
       "      <td>2017</td>\n",
       "      <td>102.8</td>\n",
       "      <td>Sinker</td>\n",
       "    </tr>\n",
       "    <tr>\n",
       "      <th>3</th>\n",
       "      <td>2019</td>\n",
       "      <td>102.7</td>\n",
       "      <td>Sinker</td>\n",
       "    </tr>\n",
       "    <tr>\n",
       "      <th>4</th>\n",
       "      <td>2020</td>\n",
       "      <td>101.1</td>\n",
       "      <td>Sinker</td>\n",
       "    </tr>\n",
       "    <tr>\n",
       "      <th>5</th>\n",
       "      <td>2016</td>\n",
       "      <td>94.0</td>\n",
       "      <td>Slider</td>\n",
       "    </tr>\n",
       "    <tr>\n",
       "      <th>6</th>\n",
       "      <td>2015</td>\n",
       "      <td>92.1</td>\n",
       "      <td>Changeup</td>\n",
       "    </tr>\n",
       "  </tbody>\n",
       "</table>\n",
       "</div>"
      ],
      "text/plain": [
       "   year  fastest_pitch pitch_name\n",
       "0  2018          104.4     Sinker\n",
       "1  2021          103.4     Sinker\n",
       "2  2017          102.8     Sinker\n",
       "3  2019          102.7     Sinker\n",
       "4  2020          101.1     Sinker\n",
       "5  2016           94.0     Slider\n",
       "6  2015           92.1   Changeup"
      ]
     },
     "execution_count": 12,
     "metadata": {},
     "output_type": "execute_result"
    }
   ],
   "source": [
    "chapmanBestNoFF = pdgbq.read_gbq(query=chapmanPitchesNoFF,project_id='valuesheet')\n",
    "\n",
    "chapmanBestNoFF.head(10)"
   ]
  },
  {
   "cell_type": "code",
   "execution_count": 14,
   "metadata": {},
   "outputs": [],
   "source": [
    "chapmanBestNoFF.to_html(buf='main.html')"
   ]
  }
 ],
 "metadata": {
  "interpreter": {
   "hash": "1df00f4df77688e03e533737577cf21a42456359f107068f0e4a264d006d12e6"
  },
  "kernelspec": {
   "display_name": "Python 3.8.11 64-bit ('mlb_env': conda)",
   "language": "python",
   "name": "python3"
  },
  "language_info": {
   "codemirror_mode": {
    "name": "ipython",
    "version": 3
   },
   "file_extension": ".py",
   "mimetype": "text/x-python",
   "name": "python",
   "nbconvert_exporter": "python",
   "pygments_lexer": "ipython3",
   "version": "3.8.11"
  },
  "orig_nbformat": 4
 },
 "nbformat": 4,
 "nbformat_minor": 2
}
