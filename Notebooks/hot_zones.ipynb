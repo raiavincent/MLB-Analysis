{
 "cells": [
  {
   "cell_type": "code",
   "execution_count": 2,
   "metadata": {},
   "outputs": [],
   "source": [
    "import pandas_gbq as pdgbq\n",
    "import pandas as pd\n",
    "import plotly.express as px"
   ]
  },
  {
   "cell_type": "code",
   "execution_count": 3,
   "metadata": {},
   "outputs": [],
   "source": [
    "zone_query = '''\n",
    "\n",
    "SELECT\n",
    "  pr.pitch_name,\n",
    "  ROUND(AVG(pv.plate_x), 4) AS avg_X,\n",
    "  ROUND(AVG(pv.plate_z), 4) AS avg_Z,\n",
    "  ROUND(AVG(pv.release_speed), 4) AS avg_speed\n",
    "FROM\n",
    "  `valuesheet.MLB.pitching_view` AS pv\n",
    "LEFT JOIN\n",
    "  `valuesheet.MLB.hitting_data` AS hd\n",
    "ON\n",
    "  pv.pitch_id = hd.pitch_id\n",
    "LEFT JOIN\n",
    "  `valuesheet.MLB.pitch_ref` AS pr\n",
    "ON\n",
    "  pr.pitch_type = pv.pitch_type\n",
    "WHERE\n",
    "  hd.events = 'strikeout'\n",
    "  AND pv.type IN('S')\n",
    "  AND pv.pitch_type IS NOT NULL\n",
    "GROUP BY\n",
    "  pr.pitch_name\n",
    "ORDER BY\n",
    "  avg_speed DESC\n",
    "'''"
   ]
  },
  {
   "cell_type": "code",
   "execution_count": 4,
   "metadata": {},
   "outputs": [
    {
     "name": "stderr",
     "output_type": "stream",
     "text": [
      "Downloading: 100%|██████████| 14/14 [00:00<00:00, 29.95rows/s]\n"
     ]
    }
   ],
   "source": [
    "pitches = pdgbq.read_gbq(query=zone_query,project_id='valuesheet')"
   ]
  },
  {
   "cell_type": "code",
   "execution_count": 5,
   "metadata": {},
   "outputs": [
    {
     "data": {
      "text/html": [
       "<div>\n",
       "<style scoped>\n",
       "    .dataframe tbody tr th:only-of-type {\n",
       "        vertical-align: middle;\n",
       "    }\n",
       "\n",
       "    .dataframe tbody tr th {\n",
       "        vertical-align: top;\n",
       "    }\n",
       "\n",
       "    .dataframe thead th {\n",
       "        text-align: right;\n",
       "    }\n",
       "</style>\n",
       "<table border=\"1\" class=\"dataframe\">\n",
       "  <thead>\n",
       "    <tr style=\"text-align: right;\">\n",
       "      <th></th>\n",
       "      <th>pitch_name</th>\n",
       "      <th>avg_X</th>\n",
       "      <th>avg_Z</th>\n",
       "      <th>avg_speed</th>\n",
       "    </tr>\n",
       "  </thead>\n",
       "  <tbody>\n",
       "    <tr>\n",
       "      <th>0</th>\n",
       "      <td>4-Seam Fastball</td>\n",
       "      <td>0.0049</td>\n",
       "      <td>2.8371</td>\n",
       "      <td>94.1791</td>\n",
       "    </tr>\n",
       "    <tr>\n",
       "      <th>1</th>\n",
       "      <td>2-Seam Fastball</td>\n",
       "      <td>-0.0411</td>\n",
       "      <td>2.4581</td>\n",
       "      <td>93.1223</td>\n",
       "    </tr>\n",
       "    <tr>\n",
       "      <th>2</th>\n",
       "      <td>Sinker</td>\n",
       "      <td>0.0012</td>\n",
       "      <td>2.4260</td>\n",
       "      <td>92.9332</td>\n",
       "    </tr>\n",
       "    <tr>\n",
       "      <th>3</th>\n",
       "      <td>Cutter</td>\n",
       "      <td>0.1561</td>\n",
       "      <td>2.2120</td>\n",
       "      <td>88.7890</td>\n",
       "    </tr>\n",
       "    <tr>\n",
       "      <th>4</th>\n",
       "      <td>Forkball</td>\n",
       "      <td>-0.3047</td>\n",
       "      <td>1.3572</td>\n",
       "      <td>86.5966</td>\n",
       "    </tr>\n",
       "    <tr>\n",
       "      <th>5</th>\n",
       "      <td>Split-Finger</td>\n",
       "      <td>-0.1529</td>\n",
       "      <td>1.4439</td>\n",
       "      <td>85.5600</td>\n",
       "    </tr>\n",
       "    <tr>\n",
       "      <th>6</th>\n",
       "      <td>Slider</td>\n",
       "      <td>0.2762</td>\n",
       "      <td>1.6779</td>\n",
       "      <td>84.9984</td>\n",
       "    </tr>\n",
       "    <tr>\n",
       "      <th>7</th>\n",
       "      <td>Changeup</td>\n",
       "      <td>-0.0685</td>\n",
       "      <td>1.6530</td>\n",
       "      <td>84.5653</td>\n",
       "    </tr>\n",
       "    <tr>\n",
       "      <th>8</th>\n",
       "      <td>Knuckle Curve</td>\n",
       "      <td>0.2171</td>\n",
       "      <td>1.4091</td>\n",
       "      <td>82.0891</td>\n",
       "    </tr>\n",
       "    <tr>\n",
       "      <th>9</th>\n",
       "      <td>Curveball</td>\n",
       "      <td>0.1296</td>\n",
       "      <td>1.5130</td>\n",
       "      <td>79.3747</td>\n",
       "    </tr>\n",
       "    <tr>\n",
       "      <th>10</th>\n",
       "      <td>Screwball</td>\n",
       "      <td>0.2800</td>\n",
       "      <td>2.0860</td>\n",
       "      <td>78.6000</td>\n",
       "    </tr>\n",
       "    <tr>\n",
       "      <th>11</th>\n",
       "      <td>Knuckleball</td>\n",
       "      <td>0.1587</td>\n",
       "      <td>2.6982</td>\n",
       "      <td>77.1637</td>\n",
       "    </tr>\n",
       "    <tr>\n",
       "      <th>12</th>\n",
       "      <td>Fastball</td>\n",
       "      <td>0.1862</td>\n",
       "      <td>2.2500</td>\n",
       "      <td>76.2062</td>\n",
       "    </tr>\n",
       "    <tr>\n",
       "      <th>13</th>\n",
       "      <td>Eephus</td>\n",
       "      <td>0.1483</td>\n",
       "      <td>1.9063</td>\n",
       "      <td>67.8344</td>\n",
       "    </tr>\n",
       "  </tbody>\n",
       "</table>\n",
       "</div>"
      ],
      "text/plain": [
       "         pitch_name   avg_X   avg_Z  avg_speed\n",
       "0   4-Seam Fastball  0.0049  2.8371    94.1791\n",
       "1   2-Seam Fastball -0.0411  2.4581    93.1223\n",
       "2            Sinker  0.0012  2.4260    92.9332\n",
       "3            Cutter  0.1561  2.2120    88.7890\n",
       "4          Forkball -0.3047  1.3572    86.5966\n",
       "5      Split-Finger -0.1529  1.4439    85.5600\n",
       "6            Slider  0.2762  1.6779    84.9984\n",
       "7          Changeup -0.0685  1.6530    84.5653\n",
       "8     Knuckle Curve  0.2171  1.4091    82.0891\n",
       "9         Curveball  0.1296  1.5130    79.3747\n",
       "10        Screwball  0.2800  2.0860    78.6000\n",
       "11      Knuckleball  0.1587  2.6982    77.1637\n",
       "12         Fastball  0.1862  2.2500    76.2062\n",
       "13           Eephus  0.1483  1.9063    67.8344"
      ]
     },
     "execution_count": 5,
     "metadata": {},
     "output_type": "execute_result"
    }
   ],
   "source": [
    "pitches.head(15)"
   ]
  },
  {
   "cell_type": "code",
   "execution_count": 10,
   "metadata": {},
   "outputs": [
    {
     "data": {
      "application/vnd.plotly.v1+json": {
       "config": {
        "plotlyServerURL": "https://plot.ly"
       },
       "data": [
        {
         "hovertemplate": "pitch_name=4-Seam Fastball<br>Inside/Outside=%{x}<br>High/Low=%{y}<extra></extra>",
         "legendgroup": "4-Seam Fastball",
         "marker": {
          "color": "#636efa",
          "symbol": "circle"
         },
         "mode": "markers",
         "name": "4-Seam Fastball",
         "orientation": "v",
         "showlegend": true,
         "type": "scatter",
         "x": [
          0.0049
         ],
         "xaxis": "x",
         "y": [
          2.8371
         ],
         "yaxis": "y"
        },
        {
         "hovertemplate": "pitch_name=2-Seam Fastball<br>Inside/Outside=%{x}<br>High/Low=%{y}<extra></extra>",
         "legendgroup": "2-Seam Fastball",
         "marker": {
          "color": "#EF553B",
          "symbol": "circle"
         },
         "mode": "markers",
         "name": "2-Seam Fastball",
         "orientation": "v",
         "showlegend": true,
         "type": "scatter",
         "x": [
          -0.0411
         ],
         "xaxis": "x",
         "y": [
          2.4581
         ],
         "yaxis": "y"
        },
        {
         "hovertemplate": "pitch_name=Sinker<br>Inside/Outside=%{x}<br>High/Low=%{y}<extra></extra>",
         "legendgroup": "Sinker",
         "marker": {
          "color": "#00cc96",
          "symbol": "circle"
         },
         "mode": "markers",
         "name": "Sinker",
         "orientation": "v",
         "showlegend": true,
         "type": "scatter",
         "x": [
          0.0012
         ],
         "xaxis": "x",
         "y": [
          2.426
         ],
         "yaxis": "y"
        },
        {
         "hovertemplate": "pitch_name=Cutter<br>Inside/Outside=%{x}<br>High/Low=%{y}<extra></extra>",
         "legendgroup": "Cutter",
         "marker": {
          "color": "#ab63fa",
          "symbol": "circle"
         },
         "mode": "markers",
         "name": "Cutter",
         "orientation": "v",
         "showlegend": true,
         "type": "scatter",
         "x": [
          0.1561
         ],
         "xaxis": "x",
         "y": [
          2.212
         ],
         "yaxis": "y"
        },
        {
         "hovertemplate": "pitch_name=Forkball<br>Inside/Outside=%{x}<br>High/Low=%{y}<extra></extra>",
         "legendgroup": "Forkball",
         "marker": {
          "color": "#FFA15A",
          "symbol": "circle"
         },
         "mode": "markers",
         "name": "Forkball",
         "orientation": "v",
         "showlegend": true,
         "type": "scatter",
         "x": [
          -0.3047
         ],
         "xaxis": "x",
         "y": [
          1.3572
         ],
         "yaxis": "y"
        },
        {
         "hovertemplate": "pitch_name=Split-Finger<br>Inside/Outside=%{x}<br>High/Low=%{y}<extra></extra>",
         "legendgroup": "Split-Finger",
         "marker": {
          "color": "#19d3f3",
          "symbol": "circle"
         },
         "mode": "markers",
         "name": "Split-Finger",
         "orientation": "v",
         "showlegend": true,
         "type": "scatter",
         "x": [
          -0.1529
         ],
         "xaxis": "x",
         "y": [
          1.4439
         ],
         "yaxis": "y"
        },
        {
         "hovertemplate": "pitch_name=Slider<br>Inside/Outside=%{x}<br>High/Low=%{y}<extra></extra>",
         "legendgroup": "Slider",
         "marker": {
          "color": "#FF6692",
          "symbol": "circle"
         },
         "mode": "markers",
         "name": "Slider",
         "orientation": "v",
         "showlegend": true,
         "type": "scatter",
         "x": [
          0.2762
         ],
         "xaxis": "x",
         "y": [
          1.6779
         ],
         "yaxis": "y"
        },
        {
         "hovertemplate": "pitch_name=Changeup<br>Inside/Outside=%{x}<br>High/Low=%{y}<extra></extra>",
         "legendgroup": "Changeup",
         "marker": {
          "color": "#B6E880",
          "symbol": "circle"
         },
         "mode": "markers",
         "name": "Changeup",
         "orientation": "v",
         "showlegend": true,
         "type": "scatter",
         "x": [
          -0.0685
         ],
         "xaxis": "x",
         "y": [
          1.653
         ],
         "yaxis": "y"
        },
        {
         "hovertemplate": "pitch_name=Knuckle Curve<br>Inside/Outside=%{x}<br>High/Low=%{y}<extra></extra>",
         "legendgroup": "Knuckle Curve",
         "marker": {
          "color": "#FF97FF",
          "symbol": "circle"
         },
         "mode": "markers",
         "name": "Knuckle Curve",
         "orientation": "v",
         "showlegend": true,
         "type": "scatter",
         "x": [
          0.2171
         ],
         "xaxis": "x",
         "y": [
          1.4091
         ],
         "yaxis": "y"
        },
        {
         "hovertemplate": "pitch_name=Curveball<br>Inside/Outside=%{x}<br>High/Low=%{y}<extra></extra>",
         "legendgroup": "Curveball",
         "marker": {
          "color": "#FECB52",
          "symbol": "circle"
         },
         "mode": "markers",
         "name": "Curveball",
         "orientation": "v",
         "showlegend": true,
         "type": "scatter",
         "x": [
          0.1296
         ],
         "xaxis": "x",
         "y": [
          1.513
         ],
         "yaxis": "y"
        },
        {
         "hovertemplate": "pitch_name=Screwball<br>Inside/Outside=%{x}<br>High/Low=%{y}<extra></extra>",
         "legendgroup": "Screwball",
         "marker": {
          "color": "#636efa",
          "symbol": "circle"
         },
         "mode": "markers",
         "name": "Screwball",
         "orientation": "v",
         "showlegend": true,
         "type": "scatter",
         "x": [
          0.28
         ],
         "xaxis": "x",
         "y": [
          2.086
         ],
         "yaxis": "y"
        },
        {
         "hovertemplate": "pitch_name=Knuckleball<br>Inside/Outside=%{x}<br>High/Low=%{y}<extra></extra>",
         "legendgroup": "Knuckleball",
         "marker": {
          "color": "#EF553B",
          "symbol": "circle"
         },
         "mode": "markers",
         "name": "Knuckleball",
         "orientation": "v",
         "showlegend": true,
         "type": "scatter",
         "x": [
          0.1587
         ],
         "xaxis": "x",
         "y": [
          2.6982
         ],
         "yaxis": "y"
        },
        {
         "hovertemplate": "pitch_name=Fastball<br>Inside/Outside=%{x}<br>High/Low=%{y}<extra></extra>",
         "legendgroup": "Fastball",
         "marker": {
          "color": "#00cc96",
          "symbol": "circle"
         },
         "mode": "markers",
         "name": "Fastball",
         "orientation": "v",
         "showlegend": true,
         "type": "scatter",
         "x": [
          0.1862
         ],
         "xaxis": "x",
         "y": [
          2.25
         ],
         "yaxis": "y"
        },
        {
         "hovertemplate": "pitch_name=Eephus<br>Inside/Outside=%{x}<br>High/Low=%{y}<extra></extra>",
         "legendgroup": "Eephus",
         "marker": {
          "color": "#ab63fa",
          "symbol": "circle"
         },
         "mode": "markers",
         "name": "Eephus",
         "orientation": "v",
         "showlegend": true,
         "type": "scatter",
         "x": [
          0.1483
         ],
         "xaxis": "x",
         "y": [
          1.9063
         ],
         "yaxis": "y"
        }
       ],
       "layout": {
        "height": 500,
        "legend": {
         "title": {
          "text": "Pitch"
         },
         "tracegroupgap": 0
        },
        "template": {
         "data": {
          "bar": [
           {
            "error_x": {
             "color": "#2a3f5f"
            },
            "error_y": {
             "color": "#2a3f5f"
            },
            "marker": {
             "line": {
              "color": "#E5ECF6",
              "width": 0.5
             },
             "pattern": {
              "fillmode": "overlay",
              "size": 10,
              "solidity": 0.2
             }
            },
            "type": "bar"
           }
          ],
          "barpolar": [
           {
            "marker": {
             "line": {
              "color": "#E5ECF6",
              "width": 0.5
             },
             "pattern": {
              "fillmode": "overlay",
              "size": 10,
              "solidity": 0.2
             }
            },
            "type": "barpolar"
           }
          ],
          "carpet": [
           {
            "aaxis": {
             "endlinecolor": "#2a3f5f",
             "gridcolor": "white",
             "linecolor": "white",
             "minorgridcolor": "white",
             "startlinecolor": "#2a3f5f"
            },
            "baxis": {
             "endlinecolor": "#2a3f5f",
             "gridcolor": "white",
             "linecolor": "white",
             "minorgridcolor": "white",
             "startlinecolor": "#2a3f5f"
            },
            "type": "carpet"
           }
          ],
          "choropleth": [
           {
            "colorbar": {
             "outlinewidth": 0,
             "ticks": ""
            },
            "type": "choropleth"
           }
          ],
          "contour": [
           {
            "colorbar": {
             "outlinewidth": 0,
             "ticks": ""
            },
            "colorscale": [
             [
              0,
              "#0d0887"
             ],
             [
              0.1111111111111111,
              "#46039f"
             ],
             [
              0.2222222222222222,
              "#7201a8"
             ],
             [
              0.3333333333333333,
              "#9c179e"
             ],
             [
              0.4444444444444444,
              "#bd3786"
             ],
             [
              0.5555555555555556,
              "#d8576b"
             ],
             [
              0.6666666666666666,
              "#ed7953"
             ],
             [
              0.7777777777777778,
              "#fb9f3a"
             ],
             [
              0.8888888888888888,
              "#fdca26"
             ],
             [
              1,
              "#f0f921"
             ]
            ],
            "type": "contour"
           }
          ],
          "contourcarpet": [
           {
            "colorbar": {
             "outlinewidth": 0,
             "ticks": ""
            },
            "type": "contourcarpet"
           }
          ],
          "heatmap": [
           {
            "colorbar": {
             "outlinewidth": 0,
             "ticks": ""
            },
            "colorscale": [
             [
              0,
              "#0d0887"
             ],
             [
              0.1111111111111111,
              "#46039f"
             ],
             [
              0.2222222222222222,
              "#7201a8"
             ],
             [
              0.3333333333333333,
              "#9c179e"
             ],
             [
              0.4444444444444444,
              "#bd3786"
             ],
             [
              0.5555555555555556,
              "#d8576b"
             ],
             [
              0.6666666666666666,
              "#ed7953"
             ],
             [
              0.7777777777777778,
              "#fb9f3a"
             ],
             [
              0.8888888888888888,
              "#fdca26"
             ],
             [
              1,
              "#f0f921"
             ]
            ],
            "type": "heatmap"
           }
          ],
          "heatmapgl": [
           {
            "colorbar": {
             "outlinewidth": 0,
             "ticks": ""
            },
            "colorscale": [
             [
              0,
              "#0d0887"
             ],
             [
              0.1111111111111111,
              "#46039f"
             ],
             [
              0.2222222222222222,
              "#7201a8"
             ],
             [
              0.3333333333333333,
              "#9c179e"
             ],
             [
              0.4444444444444444,
              "#bd3786"
             ],
             [
              0.5555555555555556,
              "#d8576b"
             ],
             [
              0.6666666666666666,
              "#ed7953"
             ],
             [
              0.7777777777777778,
              "#fb9f3a"
             ],
             [
              0.8888888888888888,
              "#fdca26"
             ],
             [
              1,
              "#f0f921"
             ]
            ],
            "type": "heatmapgl"
           }
          ],
          "histogram": [
           {
            "marker": {
             "pattern": {
              "fillmode": "overlay",
              "size": 10,
              "solidity": 0.2
             }
            },
            "type": "histogram"
           }
          ],
          "histogram2d": [
           {
            "colorbar": {
             "outlinewidth": 0,
             "ticks": ""
            },
            "colorscale": [
             [
              0,
              "#0d0887"
             ],
             [
              0.1111111111111111,
              "#46039f"
             ],
             [
              0.2222222222222222,
              "#7201a8"
             ],
             [
              0.3333333333333333,
              "#9c179e"
             ],
             [
              0.4444444444444444,
              "#bd3786"
             ],
             [
              0.5555555555555556,
              "#d8576b"
             ],
             [
              0.6666666666666666,
              "#ed7953"
             ],
             [
              0.7777777777777778,
              "#fb9f3a"
             ],
             [
              0.8888888888888888,
              "#fdca26"
             ],
             [
              1,
              "#f0f921"
             ]
            ],
            "type": "histogram2d"
           }
          ],
          "histogram2dcontour": [
           {
            "colorbar": {
             "outlinewidth": 0,
             "ticks": ""
            },
            "colorscale": [
             [
              0,
              "#0d0887"
             ],
             [
              0.1111111111111111,
              "#46039f"
             ],
             [
              0.2222222222222222,
              "#7201a8"
             ],
             [
              0.3333333333333333,
              "#9c179e"
             ],
             [
              0.4444444444444444,
              "#bd3786"
             ],
             [
              0.5555555555555556,
              "#d8576b"
             ],
             [
              0.6666666666666666,
              "#ed7953"
             ],
             [
              0.7777777777777778,
              "#fb9f3a"
             ],
             [
              0.8888888888888888,
              "#fdca26"
             ],
             [
              1,
              "#f0f921"
             ]
            ],
            "type": "histogram2dcontour"
           }
          ],
          "mesh3d": [
           {
            "colorbar": {
             "outlinewidth": 0,
             "ticks": ""
            },
            "type": "mesh3d"
           }
          ],
          "parcoords": [
           {
            "line": {
             "colorbar": {
              "outlinewidth": 0,
              "ticks": ""
             }
            },
            "type": "parcoords"
           }
          ],
          "pie": [
           {
            "automargin": true,
            "type": "pie"
           }
          ],
          "scatter": [
           {
            "marker": {
             "colorbar": {
              "outlinewidth": 0,
              "ticks": ""
             }
            },
            "type": "scatter"
           }
          ],
          "scatter3d": [
           {
            "line": {
             "colorbar": {
              "outlinewidth": 0,
              "ticks": ""
             }
            },
            "marker": {
             "colorbar": {
              "outlinewidth": 0,
              "ticks": ""
             }
            },
            "type": "scatter3d"
           }
          ],
          "scattercarpet": [
           {
            "marker": {
             "colorbar": {
              "outlinewidth": 0,
              "ticks": ""
             }
            },
            "type": "scattercarpet"
           }
          ],
          "scattergeo": [
           {
            "marker": {
             "colorbar": {
              "outlinewidth": 0,
              "ticks": ""
             }
            },
            "type": "scattergeo"
           }
          ],
          "scattergl": [
           {
            "marker": {
             "colorbar": {
              "outlinewidth": 0,
              "ticks": ""
             }
            },
            "type": "scattergl"
           }
          ],
          "scattermapbox": [
           {
            "marker": {
             "colorbar": {
              "outlinewidth": 0,
              "ticks": ""
             }
            },
            "type": "scattermapbox"
           }
          ],
          "scatterpolar": [
           {
            "marker": {
             "colorbar": {
              "outlinewidth": 0,
              "ticks": ""
             }
            },
            "type": "scatterpolar"
           }
          ],
          "scatterpolargl": [
           {
            "marker": {
             "colorbar": {
              "outlinewidth": 0,
              "ticks": ""
             }
            },
            "type": "scatterpolargl"
           }
          ],
          "scatterternary": [
           {
            "marker": {
             "colorbar": {
              "outlinewidth": 0,
              "ticks": ""
             }
            },
            "type": "scatterternary"
           }
          ],
          "surface": [
           {
            "colorbar": {
             "outlinewidth": 0,
             "ticks": ""
            },
            "colorscale": [
             [
              0,
              "#0d0887"
             ],
             [
              0.1111111111111111,
              "#46039f"
             ],
             [
              0.2222222222222222,
              "#7201a8"
             ],
             [
              0.3333333333333333,
              "#9c179e"
             ],
             [
              0.4444444444444444,
              "#bd3786"
             ],
             [
              0.5555555555555556,
              "#d8576b"
             ],
             [
              0.6666666666666666,
              "#ed7953"
             ],
             [
              0.7777777777777778,
              "#fb9f3a"
             ],
             [
              0.8888888888888888,
              "#fdca26"
             ],
             [
              1,
              "#f0f921"
             ]
            ],
            "type": "surface"
           }
          ],
          "table": [
           {
            "cells": {
             "fill": {
              "color": "#EBF0F8"
             },
             "line": {
              "color": "white"
             }
            },
            "header": {
             "fill": {
              "color": "#C8D4E3"
             },
             "line": {
              "color": "white"
             }
            },
            "type": "table"
           }
          ]
         },
         "layout": {
          "annotationdefaults": {
           "arrowcolor": "#2a3f5f",
           "arrowhead": 0,
           "arrowwidth": 1
          },
          "autotypenumbers": "strict",
          "coloraxis": {
           "colorbar": {
            "outlinewidth": 0,
            "ticks": ""
           }
          },
          "colorscale": {
           "diverging": [
            [
             0,
             "#8e0152"
            ],
            [
             0.1,
             "#c51b7d"
            ],
            [
             0.2,
             "#de77ae"
            ],
            [
             0.3,
             "#f1b6da"
            ],
            [
             0.4,
             "#fde0ef"
            ],
            [
             0.5,
             "#f7f7f7"
            ],
            [
             0.6,
             "#e6f5d0"
            ],
            [
             0.7,
             "#b8e186"
            ],
            [
             0.8,
             "#7fbc41"
            ],
            [
             0.9,
             "#4d9221"
            ],
            [
             1,
             "#276419"
            ]
           ],
           "sequential": [
            [
             0,
             "#0d0887"
            ],
            [
             0.1111111111111111,
             "#46039f"
            ],
            [
             0.2222222222222222,
             "#7201a8"
            ],
            [
             0.3333333333333333,
             "#9c179e"
            ],
            [
             0.4444444444444444,
             "#bd3786"
            ],
            [
             0.5555555555555556,
             "#d8576b"
            ],
            [
             0.6666666666666666,
             "#ed7953"
            ],
            [
             0.7777777777777778,
             "#fb9f3a"
            ],
            [
             0.8888888888888888,
             "#fdca26"
            ],
            [
             1,
             "#f0f921"
            ]
           ],
           "sequentialminus": [
            [
             0,
             "#0d0887"
            ],
            [
             0.1111111111111111,
             "#46039f"
            ],
            [
             0.2222222222222222,
             "#7201a8"
            ],
            [
             0.3333333333333333,
             "#9c179e"
            ],
            [
             0.4444444444444444,
             "#bd3786"
            ],
            [
             0.5555555555555556,
             "#d8576b"
            ],
            [
             0.6666666666666666,
             "#ed7953"
            ],
            [
             0.7777777777777778,
             "#fb9f3a"
            ],
            [
             0.8888888888888888,
             "#fdca26"
            ],
            [
             1,
             "#f0f921"
            ]
           ]
          },
          "colorway": [
           "#636efa",
           "#EF553B",
           "#00cc96",
           "#ab63fa",
           "#FFA15A",
           "#19d3f3",
           "#FF6692",
           "#B6E880",
           "#FF97FF",
           "#FECB52"
          ],
          "font": {
           "color": "#2a3f5f"
          },
          "geo": {
           "bgcolor": "white",
           "lakecolor": "white",
           "landcolor": "#E5ECF6",
           "showlakes": true,
           "showland": true,
           "subunitcolor": "white"
          },
          "hoverlabel": {
           "align": "left"
          },
          "hovermode": "closest",
          "mapbox": {
           "style": "light"
          },
          "paper_bgcolor": "white",
          "plot_bgcolor": "#E5ECF6",
          "polar": {
           "angularaxis": {
            "gridcolor": "white",
            "linecolor": "white",
            "ticks": ""
           },
           "bgcolor": "#E5ECF6",
           "radialaxis": {
            "gridcolor": "white",
            "linecolor": "white",
            "ticks": ""
           }
          },
          "scene": {
           "xaxis": {
            "backgroundcolor": "#E5ECF6",
            "gridcolor": "white",
            "gridwidth": 2,
            "linecolor": "white",
            "showbackground": true,
            "ticks": "",
            "zerolinecolor": "white"
           },
           "yaxis": {
            "backgroundcolor": "#E5ECF6",
            "gridcolor": "white",
            "gridwidth": 2,
            "linecolor": "white",
            "showbackground": true,
            "ticks": "",
            "zerolinecolor": "white"
           },
           "zaxis": {
            "backgroundcolor": "#E5ECF6",
            "gridcolor": "white",
            "gridwidth": 2,
            "linecolor": "white",
            "showbackground": true,
            "ticks": "",
            "zerolinecolor": "white"
           }
          },
          "shapedefaults": {
           "line": {
            "color": "#2a3f5f"
           }
          },
          "ternary": {
           "aaxis": {
            "gridcolor": "white",
            "linecolor": "white",
            "ticks": ""
           },
           "baxis": {
            "gridcolor": "white",
            "linecolor": "white",
            "ticks": ""
           },
           "bgcolor": "#E5ECF6",
           "caxis": {
            "gridcolor": "white",
            "linecolor": "white",
            "ticks": ""
           }
          },
          "title": {
           "x": 0.05
          },
          "xaxis": {
           "automargin": true,
           "gridcolor": "white",
           "linecolor": "white",
           "ticks": "",
           "title": {
            "standoff": 15
           },
           "zerolinecolor": "white",
           "zerolinewidth": 2
          },
          "yaxis": {
           "automargin": true,
           "gridcolor": "white",
           "linecolor": "white",
           "ticks": "",
           "title": {
            "standoff": 15
           },
           "zerolinecolor": "white",
           "zerolinewidth": 2
          }
         }
        },
        "title": {
         "text": "Hot Zones"
        },
        "width": 500,
        "xaxis": {
         "anchor": "y",
         "domain": [
          0,
          1
         ],
         "title": {
          "text": "Inside/Outside"
         }
        },
        "yaxis": {
         "anchor": "x",
         "domain": [
          0,
          1
         ],
         "title": {
          "text": "High/Low"
         }
        }
       }
      }
     },
     "metadata": {},
     "output_type": "display_data"
    }
   ],
   "source": [
    "fig = px.scatter(pitches, x=\"avg_X\", y=\"avg_Z\", color=\"pitch_name\",\n",
    "                 title=\"Hot Zones\",\n",
    "                 labels={\"avg_X\":\"Inside/Outside\",\"avg_Z\":\"High/Low\"},\n",
    "                 height=500,\n",
    "                 width=500)\n",
    "                     \n",
    "fig.update_layout(legend_title_text='Pitch')"
   ]
  },
  {
   "cell_type": "code",
   "execution_count": 11,
   "metadata": {},
   "outputs": [],
   "source": [
    "fig.write_html('index.html')"
   ]
  },
  {
   "cell_type": "code",
   "execution_count": null,
   "metadata": {},
   "outputs": [],
   "source": []
  }
 ],
 "metadata": {
  "interpreter": {
   "hash": "1df00f4df77688e03e533737577cf21a42456359f107068f0e4a264d006d12e6"
  },
  "kernelspec": {
   "display_name": "Python 3.8.11 64-bit ('mlb_env': conda)",
   "language": "python",
   "name": "python3"
  },
  "language_info": {
   "codemirror_mode": {
    "name": "ipython",
    "version": 3
   },
   "file_extension": ".py",
   "mimetype": "text/x-python",
   "name": "python",
   "nbconvert_exporter": "python",
   "pygments_lexer": "ipython3",
   "version": "3.8.11"
  },
  "orig_nbformat": 4
 },
 "nbformat": 4,
 "nbformat_minor": 2
}
