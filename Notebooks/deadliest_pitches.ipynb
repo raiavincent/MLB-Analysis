{
 "cells": [
  {
   "cell_type": "code",
   "execution_count": 7,
   "metadata": {},
   "outputs": [
    {
     "ename": "ModuleNotFoundError",
     "evalue": "No module named 'pandas_gbq'",
     "output_type": "error",
     "traceback": [
      "\u001b[1;31m---------------------------------------------------------------------------\u001b[0m",
      "\u001b[1;31mModuleNotFoundError\u001b[0m                       Traceback (most recent call last)",
      "\u001b[1;32m<ipython-input-7-ba1b38ee5fe9>\u001b[0m in \u001b[0;36m<module>\u001b[1;34m\u001b[0m\n\u001b[1;32m----> 1\u001b[1;33m \u001b[1;32mimport\u001b[0m \u001b[0mpandas_gbq\u001b[0m\u001b[1;33m\u001b[0m\u001b[1;33m\u001b[0m\u001b[0m\n\u001b[0m",
      "\u001b[1;31mModuleNotFoundError\u001b[0m: No module named 'pandas_gbq'"
     ]
    }
   ],
   "source": [
    "import pandas_gbq"
   ]
  },
  {
   "cell_type": "code",
   "execution_count": null,
   "metadata": {},
   "outputs": [],
   "source": [
    "pitch_query = '''\n",
    "SELECT\n",
    "  pd.pitch_type,\n",
    "  pr.pitch_name,\n",
    "  ROUND(AVG(pd.release_speed),2) AS avg_speed\n",
    "FROM\n",
    "  `valuesheet.MLB.hitting_data` AS hd\n",
    "LEFT JOIN\n",
    "  `valuesheet.MLB.pitching_view` AS pd\n",
    "ON\n",
    "  pd.pitch_id = hd.pitch_id\n",
    "LEFT JOIN\n",
    "  `valuesheet.MLB.pitch_ref` AS pr\n",
    "ON\n",
    "  pd.pitch_type = pr.pitch_type\n",
    "WHERE\n",
    "  hd.events = 'strikeout'\n",
    "  AND pd.type IN('S')\n",
    "  AND pd.pitch_type IS NOT NULL\n",
    "GROUP BY\n",
    "  pd.pitch_type,\n",
    "  pr.pitch_name\n",
    "ORDER BY\n",
    "  AVG(pd.release_speed) DESC\n",
    "'''"
   ]
  }
 ],
 "metadata": {
  "interpreter": {
   "hash": "c16a3032dda3bdf64d9f757057b0a53b5e68a21e8ead40a70f6d6ab2bef63aea"
  },
  "kernelspec": {
   "display_name": "Python 3.8.8 64-bit ('base': conda)",
   "language": "python",
   "name": "python3"
  },
  "language_info": {
   "codemirror_mode": {
    "name": "ipython",
    "version": 3
   },
   "file_extension": ".py",
   "mimetype": "text/x-python",
   "name": "python",
   "nbconvert_exporter": "python",
   "pygments_lexer": "ipython3",
   "version": "3.8.8"
  },
  "orig_nbformat": 4
 },
 "nbformat": 4,
 "nbformat_minor": 2
}
